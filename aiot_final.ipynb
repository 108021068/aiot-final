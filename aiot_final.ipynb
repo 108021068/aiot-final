{
  "nbformat": 4,
  "nbformat_minor": 0,
  "metadata": {
    "colab": {
      "provenance": []
    },
    "kernelspec": {
      "name": "python3",
      "display_name": "Python 3"
    },
    "language_info": {
      "name": "python"
    }
  },
  "cells": [
    {
      "cell_type": "code",
      "source": [
        "!pip install paho-mqtt"
      ],
      "metadata": {
        "colab": {
          "base_uri": "https://localhost:8080/"
        },
        "id": "gCsvdK1xRUZA",
        "outputId": "fc1822c6-361e-4c0f-c00d-6f3eaed7fdb4"
      },
      "execution_count": null,
      "outputs": [
        {
          "output_type": "stream",
          "name": "stdout",
          "text": [
            "Looking in indexes: https://pypi.org/simple, https://us-python.pkg.dev/colab-wheels/public/simple/\n",
            "Collecting paho-mqtt\n",
            "  Downloading paho-mqtt-1.6.1.tar.gz (99 kB)\n",
            "\u001b[2K     \u001b[90m━━━━━━━━━━━━━━━━━━━━━━━━━━━━━━━━━━━━━━━━\u001b[0m \u001b[32m99.4/99.4 kB\u001b[0m \u001b[31m7.5 MB/s\u001b[0m eta \u001b[36m0:00:00\u001b[0m\n",
            "\u001b[?25h  Preparing metadata (setup.py) ... \u001b[?25l\u001b[?25hdone\n",
            "Building wheels for collected packages: paho-mqtt\n",
            "  Building wheel for paho-mqtt (setup.py) ... \u001b[?25l\u001b[?25hdone\n",
            "  Created wheel for paho-mqtt: filename=paho_mqtt-1.6.1-py3-none-any.whl size=62118 sha256=1b830481c6232c169c3f98501525a7111102044a2f267d19efc8b6ded31e1484\n",
            "  Stored in directory: /root/.cache/pip/wheels/8b/bb/0c/79444d1dee20324d442856979b5b519b48828b0bd3d05df84a\n",
            "Successfully built paho-mqtt\n",
            "Installing collected packages: paho-mqtt\n",
            "Successfully installed paho-mqtt-1.6.1\n"
          ]
        }
      ]
    },
    {
      "cell_type": "code",
      "source": [
        "import os\n",
        "import re\n",
        "import pickle\n",
        "\n",
        "from sklearn import linear_model\n",
        "import paho.mqtt.client as mqtt\n",
        "import pandas"
      ],
      "metadata": {
        "id": "fU-bgaePE-1n"
      },
      "execution_count": null,
      "outputs": []
    },
    {
      "cell_type": "markdown",
      "source": [],
      "metadata": {
        "id": "9yalQcJqTXMZ"
      }
    },
    {
      "cell_type": "markdown",
      "source": [
        "# 把資料存進 CSV 檔案"
      ],
      "metadata": {
        "id": "ZVFTapHVTafx"
      }
    },
    {
      "cell_type": "code",
      "source": [
        "mqtt_server = \"MQTT Server\"\n",
        "mqtt_topics = \"MQTT Topics\"\n",
        "data_file = \"./data.csv\"\n",
        "\n",
        "file = open(data_file, \"wt+\", encoding=\"utf-8-sig\")\n",
        "print(\"Soil Humid,DHT Humid,Temperature\", file=file)\n",
        "\n",
        "# The callback for when the client receives a CONNACK response from the server.\n",
        "def on_connect(client, userdata, flags, rc):\n",
        "    print(\"Connected with result code \"+str(rc))\n",
        "\n",
        "    # Subscribing in on_connect() means that if we lose the connection and\n",
        "    # reconnect then subscriptions will be renewed.\n",
        "    client.subscribe(mqtt_topics)\n",
        "\n",
        "# The callback for when a PUBLISH message is received from the server.\n",
        "def on_message(client, userdata, msg):\n",
        "    soil_humid = re.findall(r\"Soil Humid: \\d+\", msg)[0][12:]\n",
        "    dht_humid = re.findall(r\"DHT Humid: \\d+\\.\\d+\", msg)[0][11:]\n",
        "    temp = re.findall(r\"Temp: \\d+\\.\\d+\", msg)[0][6:]\n",
        "    print(\"{},{},{}\".format(soil_humid, dht_humid, temp), file=file)\n",
        "\n",
        "\n",
        "client = mqtt.Client()\n",
        "client.on_connect = on_connect\n",
        "client.on_message = on_message\n",
        "\n",
        "client.connect(mqtt_server, 1883, 60)\n",
        "\n",
        "# Blocking call that processes network traffic, dispatches callbacks and\n",
        "# handles reconnecting.\n",
        "# Other loop*() functions are available that give a threaded interface and a\n",
        "# manual interface.\n",
        "client.loop_forever()\n",
        "file.close()"
      ],
      "metadata": {
        "id": "OpoXQRCyRkjE"
      },
      "execution_count": null,
      "outputs": []
    },
    {
      "cell_type": "markdown",
      "source": [
        "# 線性回歸"
      ],
      "metadata": {
        "id": "BArG8mwHTgPY"
      }
    },
    {
      "cell_type": "code",
      "source": [
        "data_file = \"./data.csv\"\n",
        "\n",
        "data = pandas.read_csv(data_file)\n",
        "soil = data[\"Soil Humid\"].to_list()\n",
        "learn = [[i[1], i[2]] for i in data[[\"DHT Humid\", \"DHT Humid\"]].itertuples()]\n",
        "\n",
        "reg = linear_model.LinearRegression()\n",
        "reg.fit(learn, soil)\n",
        "\n",
        "with open(\"./model.bin\", \"wb+\") as f:\n",
        "  f.write(pickle.dumps(reg))"
      ],
      "metadata": {
        "id": "OwrMOJyoTJC0"
      },
      "execution_count": null,
      "outputs": []
    }
  ]
}